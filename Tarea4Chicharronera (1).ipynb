{
  "nbformat": 4,
  "nbformat_minor": 0,
  "metadata": {
    "colab": {
      "name": "Tarea4Chicharronera.ipynb",
      "provenance": []
    },
    "kernelspec": {
      "name": "python3",
      "display_name": "Python 3"
    },
    "language_info": {
      "name": "python"
    }
  },
  "cells": [
    {
      "cell_type": "code",
      "metadata": {
        "colab": {
          "base_uri": "https://localhost:8080/"
        },
        "id": "uHLxJKH5uRns",
        "outputId": "78ac4d99-3fdf-4bc5-f43b-30a29ae7843f"
      },
      "source": [
        "import math\n",
        "def segundoGrado(a,b,c):\n",
        "    if a == 0:\n",
        "        print(\"No es una ecuación cuadrática\")\n",
        "    else:\n",
        "        d = ((b * b) - (4 * a * c))\n",
        "        if d > 0:\n",
        "            x = (- b + math.sqrt(d)) / (2 * a)\n",
        "            y = (- b - math.sqrt(d)) / (2 * a)  \n",
        "            print(f\"x1 = {x}\\nx2 = {y}\")\n",
        "        elif d == 0:\n",
        "            x = (- b) / (2 * a)\n",
        "            print(f\"x = {x}\")\n",
        "        else:\n",
        "            print(\"La ecuación no tiene solución dentro de los números reales\")\n",
        "\n",
        "segundoGrado(1,-2,-35)\n",
        "\n"
      ],
      "execution_count": 56,
      "outputs": [
        {
          "output_type": "stream",
          "name": "stdout",
          "text": [
            "x1 = 7.0\n",
            "x2 = -5.0\n"
          ]
        }
      ]
    }
  ]
}